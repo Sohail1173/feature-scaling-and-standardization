{
 "cells": [
  {
   "cell_type": "markdown",
   "metadata": {},
   "source": [
    "<a href=\"https://www.kaggle.com/code/mdsohailahmed/feature-saling-standardization-and-normalization?scriptVersionId=108516540\" target=\"_blank\"><img align=\"left\" alt=\"Kaggle\" title=\"Open in Kaggle\" src=\"https://kaggle.com/static/images/open-in-kaggle.svg\"></a>"
   ]
  },
  {
   "cell_type": "code",
   "execution_count": null,
   "id": "652d45c2",
   "metadata": {
    "_cell_guid": "b1076dfc-b9ad-4769-8c92-a6c4dae69d19",
    "_uuid": "8f2839f25d086af736a60e9eeb907d3b93b6e0e5",
    "execution": {
     "iopub.execute_input": "2022-10-19T05:50:24.689963Z",
     "iopub.status.busy": "2022-10-19T05:50:24.688212Z",
     "iopub.status.idle": "2022-10-19T05:50:24.707458Z",
     "shell.execute_reply": "2022-10-19T05:50:24.706243Z",
     "shell.execute_reply.started": "2022-10-19T05:30:55.04895Z"
    },
    "papermill": {
     "duration": 0.051564,
     "end_time": "2022-10-19T05:50:24.707681",
     "exception": false,
     "start_time": "2022-10-19T05:50:24.656117",
     "status": "completed"
    },
    "tags": []
   },
   "outputs": [
    {
     "name": "stdout",
     "output_type": "stream",
     "text": [
      "/kaggle/input/titanic/train.csv\n",
      "/kaggle/input/titanic/test.csv\n",
      "/kaggle/input/titanic/gender_submission.csv\n"
     ]
    }
   ],
   "source": [
    "# This Python 3 environment comes with many helpful analytics libraries installed\n",
    "# It is defined by the kaggle/python Docker image: https://github.com/kaggle/docker-python\n",
    " \n",
    "import numpy as np # linear algebra\n",
    "import pandas as pd # data processing, CSV file I/O (e.g. pd.read_csv)\n",
    "\n",
    "# Input data files are available in the read-only \"../input/\" directory\n",
    " \n",
    "import os\n",
    "for dirname, _, filenames in os.walk('/kaggle/input'):\n",
    "    for filename in filenames:\n",
    "        print(os.path.join(dirname, filename))\n",
    "\n",
    "# You can write up to 20GB to the current directory (/kaggle/working/) that gets preserved as output when you create a version using \"Save & Run All\" \n",
    "# You can also write temporary files to /kaggle/temp/, but they won't be saved outside of the current session"
   ]
  },
  {
   "cell_type": "code",
   "execution_count": 2,
   "id": "22076369",
   "metadata": {
    "execution": {
     "iopub.execute_input": "2022-10-19T05:50:24.776477Z",
     "iopub.status.busy": "2022-10-19T05:50:24.775105Z",
     "iopub.status.idle": "2022-10-19T05:50:24.779057Z",
     "shell.execute_reply": "2022-10-19T05:50:24.779899Z",
     "shell.execute_reply.started": "2022-10-19T05:30:55.089992Z"
    },
    "papermill": {
     "duration": 0.041089,
     "end_time": "2022-10-19T05:50:24.780153",
     "exception": false,
     "start_time": "2022-10-19T05:50:24.739064",
     "status": "completed"
    },
    "tags": []
   },
   "outputs": [],
   "source": [
    "##feature scaling is the laststeps in data preprocessing and before machine learning model training \n",
    "#we apply feature scaling on independent variable\n",
    "#we fit feature scaling with train data and transform on traina and test data"
   ]
  },
  {
   "cell_type": "code",
   "execution_count": 3,
   "id": "949bb2a5",
   "metadata": {
    "execution": {
     "iopub.execute_input": "2022-10-19T05:50:24.844466Z",
     "iopub.status.busy": "2022-10-19T05:50:24.843539Z",
     "iopub.status.idle": "2022-10-19T05:50:25.932683Z",
     "shell.execute_reply": "2022-10-19T05:50:25.933285Z",
     "shell.execute_reply.started": "2022-10-19T05:30:55.099035Z"
    },
    "papermill": {
     "duration": 1.122811,
     "end_time": "2022-10-19T05:50:25.933473",
     "exception": false,
     "start_time": "2022-10-19T05:50:24.810662",
     "status": "completed"
    },
    "tags": []
   },
   "outputs": [],
   "source": [
    "import seaborn as sns\n",
    "from sklearn.preprocessing import StandardScaler\n",
    "from sklearn.preprocessing import MinMaxScaler\n",
    "from sklearn.model_selection import train_test_split"
   ]
  },
  {
   "cell_type": "code",
   "execution_count": 4,
   "id": "5d0187ee",
   "metadata": {
    "execution": {
     "iopub.execute_input": "2022-10-19T05:50:25.990559Z",
     "iopub.status.busy": "2022-10-19T05:50:25.989699Z",
     "iopub.status.idle": "2022-10-19T05:50:26.017103Z",
     "shell.execute_reply": "2022-10-19T05:50:26.017648Z",
     "shell.execute_reply.started": "2022-10-19T05:30:56.625635Z"
    },
    "papermill": {
     "duration": 0.058287,
     "end_time": "2022-10-19T05:50:26.017823",
     "exception": false,
     "start_time": "2022-10-19T05:50:25.959536",
     "status": "completed"
    },
    "tags": []
   },
   "outputs": [],
   "source": [
    "train_data = pd.read_csv(\"/kaggle/input/titanic/train.csv\")\n",
    "test_data = pd.read_csv(\"/kaggle/input/titanic/test.csv\")"
   ]
  },
  {
   "cell_type": "code",
   "execution_count": 5,
   "id": "128ee43e",
   "metadata": {
    "execution": {
     "iopub.execute_input": "2022-10-19T05:50:26.07308Z",
     "iopub.status.busy": "2022-10-19T05:50:26.072126Z",
     "iopub.status.idle": "2022-10-19T05:50:26.096604Z",
     "shell.execute_reply": "2022-10-19T05:50:26.097117Z",
     "shell.execute_reply.started": "2022-10-19T05:30:56.659734Z"
    },
    "papermill": {
     "duration": 0.053492,
     "end_time": "2022-10-19T05:50:26.097286",
     "exception": false,
     "start_time": "2022-10-19T05:50:26.043794",
     "status": "completed"
    },
    "tags": []
   },
   "outputs": [
    {
     "data": {
      "text/html": [
       "<div>\n",
       "<style scoped>\n",
       "    .dataframe tbody tr th:only-of-type {\n",
       "        vertical-align: middle;\n",
       "    }\n",
       "\n",
       "    .dataframe tbody tr th {\n",
       "        vertical-align: top;\n",
       "    }\n",
       "\n",
       "    .dataframe thead th {\n",
       "        text-align: right;\n",
       "    }\n",
       "</style>\n",
       "<table border=\"1\" class=\"dataframe\">\n",
       "  <thead>\n",
       "    <tr style=\"text-align: right;\">\n",
       "      <th></th>\n",
       "      <th>PassengerId</th>\n",
       "      <th>Survived</th>\n",
       "      <th>Pclass</th>\n",
       "      <th>Name</th>\n",
       "      <th>Sex</th>\n",
       "      <th>Age</th>\n",
       "      <th>SibSp</th>\n",
       "      <th>Parch</th>\n",
       "      <th>Ticket</th>\n",
       "      <th>Fare</th>\n",
       "      <th>Cabin</th>\n",
       "      <th>Embarked</th>\n",
       "    </tr>\n",
       "  </thead>\n",
       "  <tbody>\n",
       "    <tr>\n",
       "      <th>0</th>\n",
       "      <td>1</td>\n",
       "      <td>0</td>\n",
       "      <td>3</td>\n",
       "      <td>Braund, Mr. Owen Harris</td>\n",
       "      <td>male</td>\n",
       "      <td>22.0</td>\n",
       "      <td>1</td>\n",
       "      <td>0</td>\n",
       "      <td>A/5 21171</td>\n",
       "      <td>7.2500</td>\n",
       "      <td>NaN</td>\n",
       "      <td>S</td>\n",
       "    </tr>\n",
       "    <tr>\n",
       "      <th>1</th>\n",
       "      <td>2</td>\n",
       "      <td>1</td>\n",
       "      <td>1</td>\n",
       "      <td>Cumings, Mrs. John Bradley (Florence Briggs Th...</td>\n",
       "      <td>female</td>\n",
       "      <td>38.0</td>\n",
       "      <td>1</td>\n",
       "      <td>0</td>\n",
       "      <td>PC 17599</td>\n",
       "      <td>71.2833</td>\n",
       "      <td>C85</td>\n",
       "      <td>C</td>\n",
       "    </tr>\n",
       "    <tr>\n",
       "      <th>2</th>\n",
       "      <td>3</td>\n",
       "      <td>1</td>\n",
       "      <td>3</td>\n",
       "      <td>Heikkinen, Miss. Laina</td>\n",
       "      <td>female</td>\n",
       "      <td>26.0</td>\n",
       "      <td>0</td>\n",
       "      <td>0</td>\n",
       "      <td>STON/O2. 3101282</td>\n",
       "      <td>7.9250</td>\n",
       "      <td>NaN</td>\n",
       "      <td>S</td>\n",
       "    </tr>\n",
       "    <tr>\n",
       "      <th>3</th>\n",
       "      <td>4</td>\n",
       "      <td>1</td>\n",
       "      <td>1</td>\n",
       "      <td>Futrelle, Mrs. Jacques Heath (Lily May Peel)</td>\n",
       "      <td>female</td>\n",
       "      <td>35.0</td>\n",
       "      <td>1</td>\n",
       "      <td>0</td>\n",
       "      <td>113803</td>\n",
       "      <td>53.1000</td>\n",
       "      <td>C123</td>\n",
       "      <td>S</td>\n",
       "    </tr>\n",
       "    <tr>\n",
       "      <th>4</th>\n",
       "      <td>5</td>\n",
       "      <td>0</td>\n",
       "      <td>3</td>\n",
       "      <td>Allen, Mr. William Henry</td>\n",
       "      <td>male</td>\n",
       "      <td>35.0</td>\n",
       "      <td>0</td>\n",
       "      <td>0</td>\n",
       "      <td>373450</td>\n",
       "      <td>8.0500</td>\n",
       "      <td>NaN</td>\n",
       "      <td>S</td>\n",
       "    </tr>\n",
       "  </tbody>\n",
       "</table>\n",
       "</div>"
      ],
      "text/plain": [
       "   PassengerId  Survived  Pclass  \\\n",
       "0            1         0       3   \n",
       "1            2         1       1   \n",
       "2            3         1       3   \n",
       "3            4         1       1   \n",
       "4            5         0       3   \n",
       "\n",
       "                                                Name     Sex   Age  SibSp  \\\n",
       "0                            Braund, Mr. Owen Harris    male  22.0      1   \n",
       "1  Cumings, Mrs. John Bradley (Florence Briggs Th...  female  38.0      1   \n",
       "2                             Heikkinen, Miss. Laina  female  26.0      0   \n",
       "3       Futrelle, Mrs. Jacques Heath (Lily May Peel)  female  35.0      1   \n",
       "4                           Allen, Mr. William Henry    male  35.0      0   \n",
       "\n",
       "   Parch            Ticket     Fare Cabin Embarked  \n",
       "0      0         A/5 21171   7.2500   NaN        S  \n",
       "1      0          PC 17599  71.2833   C85        C  \n",
       "2      0  STON/O2. 3101282   7.9250   NaN        S  \n",
       "3      0            113803  53.1000  C123        S  \n",
       "4      0            373450   8.0500   NaN        S  "
      ]
     },
     "execution_count": 5,
     "metadata": {},
     "output_type": "execute_result"
    }
   ],
   "source": [
    "train_data.head()"
   ]
  },
  {
   "cell_type": "code",
   "execution_count": 6,
   "id": "6d76215c",
   "metadata": {
    "execution": {
     "iopub.execute_input": "2022-10-19T05:50:26.155361Z",
     "iopub.status.busy": "2022-10-19T05:50:26.154551Z",
     "iopub.status.idle": "2022-10-19T05:50:26.157797Z",
     "shell.execute_reply": "2022-10-19T05:50:26.158273Z",
     "shell.execute_reply.started": "2022-10-19T05:30:56.688367Z"
    },
    "papermill": {
     "duration": 0.033834,
     "end_time": "2022-10-19T05:50:26.158439",
     "exception": false,
     "start_time": "2022-10-19T05:50:26.124605",
     "status": "completed"
    },
    "tags": []
   },
   "outputs": [
    {
     "data": {
      "text/plain": [
       "(891, 12)"
      ]
     },
     "execution_count": 6,
     "metadata": {},
     "output_type": "execute_result"
    }
   ],
   "source": [
    "train_data.shape"
   ]
  },
  {
   "cell_type": "code",
   "execution_count": 7,
   "id": "7c552e15",
   "metadata": {
    "execution": {
     "iopub.execute_input": "2022-10-19T05:50:26.213959Z",
     "iopub.status.busy": "2022-10-19T05:50:26.213026Z",
     "iopub.status.idle": "2022-10-19T05:50:26.218202Z",
     "shell.execute_reply": "2022-10-19T05:50:26.218786Z",
     "shell.execute_reply.started": "2022-10-19T05:30:56.696459Z"
    },
    "papermill": {
     "duration": 0.034599,
     "end_time": "2022-10-19T05:50:26.218957",
     "exception": false,
     "start_time": "2022-10-19T05:50:26.184358",
     "status": "completed"
    },
    "tags": []
   },
   "outputs": [
    {
     "data": {
      "text/plain": [
       "(418, 11)"
      ]
     },
     "execution_count": 7,
     "metadata": {},
     "output_type": "execute_result"
    }
   ],
   "source": [
    "test_data.shape"
   ]
  },
  {
   "cell_type": "code",
   "execution_count": 8,
   "id": "b5f8890a",
   "metadata": {
    "execution": {
     "iopub.execute_input": "2022-10-19T05:50:26.276262Z",
     "iopub.status.busy": "2022-10-19T05:50:26.275306Z",
     "iopub.status.idle": "2022-10-19T05:50:26.289804Z",
     "shell.execute_reply": "2022-10-19T05:50:26.290361Z",
     "shell.execute_reply.started": "2022-10-19T05:30:56.708935Z"
    },
    "papermill": {
     "duration": 0.045639,
     "end_time": "2022-10-19T05:50:26.290532",
     "exception": false,
     "start_time": "2022-10-19T05:50:26.244893",
     "status": "completed"
    },
    "tags": []
   },
   "outputs": [
    {
     "data": {
      "text/html": [
       "<div>\n",
       "<style scoped>\n",
       "    .dataframe tbody tr th:only-of-type {\n",
       "        vertical-align: middle;\n",
       "    }\n",
       "\n",
       "    .dataframe tbody tr th {\n",
       "        vertical-align: top;\n",
       "    }\n",
       "\n",
       "    .dataframe thead th {\n",
       "        text-align: right;\n",
       "    }\n",
       "</style>\n",
       "<table border=\"1\" class=\"dataframe\">\n",
       "  <thead>\n",
       "    <tr style=\"text-align: right;\">\n",
       "      <th></th>\n",
       "      <th>Survived</th>\n",
       "      <th>Pclass</th>\n",
       "      <th>Age</th>\n",
       "      <th>Parch</th>\n",
       "    </tr>\n",
       "  </thead>\n",
       "  <tbody>\n",
       "    <tr>\n",
       "      <th>0</th>\n",
       "      <td>0</td>\n",
       "      <td>3</td>\n",
       "      <td>22.0</td>\n",
       "      <td>0</td>\n",
       "    </tr>\n",
       "    <tr>\n",
       "      <th>1</th>\n",
       "      <td>1</td>\n",
       "      <td>1</td>\n",
       "      <td>38.0</td>\n",
       "      <td>0</td>\n",
       "    </tr>\n",
       "  </tbody>\n",
       "</table>\n",
       "</div>"
      ],
      "text/plain": [
       "   Survived  Pclass   Age  Parch\n",
       "0         0       3  22.0      0\n",
       "1         1       1  38.0      0"
      ]
     },
     "execution_count": 8,
     "metadata": {},
     "output_type": "execute_result"
    }
   ],
   "source": [
    "df=train_data[['Survived','Pclass','Age','Parch']]\n",
    "df.head(2)"
   ]
  },
  {
   "cell_type": "code",
   "execution_count": 9,
   "id": "7412d8de",
   "metadata": {
    "execution": {
     "iopub.execute_input": "2022-10-19T05:50:26.346681Z",
     "iopub.status.busy": "2022-10-19T05:50:26.345762Z",
     "iopub.status.idle": "2022-10-19T05:50:26.353127Z",
     "shell.execute_reply": "2022-10-19T05:50:26.353654Z",
     "shell.execute_reply.started": "2022-10-19T05:30:56.73227Z"
    },
    "papermill": {
     "duration": 0.037172,
     "end_time": "2022-10-19T05:50:26.353819",
     "exception": false,
     "start_time": "2022-10-19T05:50:26.316647",
     "status": "completed"
    },
    "tags": []
   },
   "outputs": [
    {
     "data": {
      "text/plain": [
       "Survived      0\n",
       "Pclass        0\n",
       "Age         177\n",
       "Parch         0\n",
       "dtype: int64"
      ]
     },
     "execution_count": 9,
     "metadata": {},
     "output_type": "execute_result"
    }
   ],
   "source": [
    "df.isnull().sum()"
   ]
  },
  {
   "cell_type": "code",
   "execution_count": 10,
   "id": "8ac95fac",
   "metadata": {
    "execution": {
     "iopub.execute_input": "2022-10-19T05:50:26.411023Z",
     "iopub.status.busy": "2022-10-19T05:50:26.410195Z",
     "iopub.status.idle": "2022-10-19T05:50:26.415795Z",
     "shell.execute_reply": "2022-10-19T05:50:26.416339Z",
     "shell.execute_reply.started": "2022-10-19T05:30:56.74772Z"
    },
    "papermill": {
     "duration": 0.035908,
     "end_time": "2022-10-19T05:50:26.416504",
     "exception": false,
     "start_time": "2022-10-19T05:50:26.380596",
     "status": "completed"
    },
    "tags": []
   },
   "outputs": [],
   "source": [
    "df2=df.fillna(df.mean())"
   ]
  },
  {
   "cell_type": "code",
   "execution_count": 11,
   "id": "de55533e",
   "metadata": {
    "execution": {
     "iopub.execute_input": "2022-10-19T05:50:26.474294Z",
     "iopub.status.busy": "2022-10-19T05:50:26.473575Z",
     "iopub.status.idle": "2022-10-19T05:50:26.479852Z",
     "shell.execute_reply": "2022-10-19T05:50:26.480453Z",
     "shell.execute_reply.started": "2022-10-19T05:30:56.761452Z"
    },
    "papermill": {
     "duration": 0.036189,
     "end_time": "2022-10-19T05:50:26.48062",
     "exception": false,
     "start_time": "2022-10-19T05:50:26.444431",
     "status": "completed"
    },
    "tags": []
   },
   "outputs": [
    {
     "data": {
      "text/plain": [
       "Survived    0\n",
       "Pclass      0\n",
       "Age         0\n",
       "Parch       0\n",
       "dtype: int64"
      ]
     },
     "execution_count": 11,
     "metadata": {},
     "output_type": "execute_result"
    }
   ],
   "source": [
    "df2.isnull().sum()"
   ]
  },
  {
   "cell_type": "code",
   "execution_count": 12,
   "id": "a5bb0bcf",
   "metadata": {
    "execution": {
     "iopub.execute_input": "2022-10-19T05:50:26.542033Z",
     "iopub.status.busy": "2022-10-19T05:50:26.541395Z",
     "iopub.status.idle": "2022-10-19T05:50:26.547606Z",
     "shell.execute_reply": "2022-10-19T05:50:26.547069Z",
     "shell.execute_reply.started": "2022-10-19T05:30:56.775166Z"
    },
    "papermill": {
     "duration": 0.037339,
     "end_time": "2022-10-19T05:50:26.547758",
     "exception": false,
     "start_time": "2022-10-19T05:50:26.510419",
     "status": "completed"
    },
    "tags": []
   },
   "outputs": [],
   "source": [
    "x=df2.drop('Survived',axis=1)\n",
    "y=df2['Survived']"
   ]
  },
  {
   "cell_type": "code",
   "execution_count": 13,
   "id": "49fe11ff",
   "metadata": {
    "execution": {
     "iopub.execute_input": "2022-10-19T05:50:26.608199Z",
     "iopub.status.busy": "2022-10-19T05:50:26.607496Z",
     "iopub.status.idle": "2022-10-19T05:50:26.610847Z",
     "shell.execute_reply": "2022-10-19T05:50:26.610242Z",
     "shell.execute_reply.started": "2022-10-19T05:30:56.787865Z"
    },
    "papermill": {
     "duration": 0.035745,
     "end_time": "2022-10-19T05:50:26.611013",
     "exception": false,
     "start_time": "2022-10-19T05:50:26.575268",
     "status": "completed"
    },
    "tags": []
   },
   "outputs": [
    {
     "name": "stdout",
     "output_type": "stream",
     "text": [
      "shape of x= (891, 3)\n",
      "shape of y= (891,)\n"
     ]
    }
   ],
   "source": [
    "print(\"shape of x=\",x.shape)\n",
    "print('shape of y=',y.shape)"
   ]
  },
  {
   "cell_type": "code",
   "execution_count": 14,
   "id": "d0c0a9b2",
   "metadata": {
    "execution": {
     "iopub.execute_input": "2022-10-19T05:50:26.673414Z",
     "iopub.status.busy": "2022-10-19T05:50:26.671826Z",
     "iopub.status.idle": "2022-10-19T05:50:26.676114Z",
     "shell.execute_reply": "2022-10-19T05:50:26.675549Z",
     "shell.execute_reply.started": "2022-10-19T05:30:56.801565Z"
    },
    "papermill": {
     "duration": 0.037753,
     "end_time": "2022-10-19T05:50:26.676255",
     "exception": false,
     "start_time": "2022-10-19T05:50:26.638502",
     "status": "completed"
    },
    "tags": []
   },
   "outputs": [],
   "source": [
    "x_train,x_test,y_train,y_test=train_test_split(x,y,test_size=0.2,random_state=51)"
   ]
  },
  {
   "cell_type": "code",
   "execution_count": 15,
   "id": "98a0fab3",
   "metadata": {
    "execution": {
     "iopub.execute_input": "2022-10-19T05:50:26.73772Z",
     "iopub.status.busy": "2022-10-19T05:50:26.736747Z",
     "iopub.status.idle": "2022-10-19T05:50:26.74061Z",
     "shell.execute_reply": "2022-10-19T05:50:26.739994Z",
     "shell.execute_reply.started": "2022-10-19T05:30:56.818268Z"
    },
    "papermill": {
     "duration": 0.037146,
     "end_time": "2022-10-19T05:50:26.740743",
     "exception": false,
     "start_time": "2022-10-19T05:50:26.703597",
     "status": "completed"
    },
    "tags": []
   },
   "outputs": [
    {
     "name": "stdout",
     "output_type": "stream",
     "text": [
      "shape of x_train= (712, 3)\n",
      "shape of y_train= (712,)\n",
      "shape of x_test= (179, 3)\n",
      "shape of y_test= (179, 3)\n"
     ]
    }
   ],
   "source": [
    "print('shape of x_train=',x_train.shape)\n",
    "print('shape of y_train=',y_train.shape)\n",
    "print('shape of x_test=',x_test.shape)\n",
    "print('shape of y_test=',x_test.shape)\n"
   ]
  },
  {
   "cell_type": "code",
   "execution_count": 16,
   "id": "971f20b3",
   "metadata": {
    "execution": {
     "iopub.execute_input": "2022-10-19T05:50:26.800305Z",
     "iopub.status.busy": "2022-10-19T05:50:26.799371Z",
     "iopub.status.idle": "2022-10-19T05:50:26.802515Z",
     "shell.execute_reply": "2022-10-19T05:50:26.803037Z",
     "shell.execute_reply.started": "2022-10-19T05:30:56.833741Z"
    },
    "papermill": {
     "duration": 0.034509,
     "end_time": "2022-10-19T05:50:26.803201",
     "exception": false,
     "start_time": "2022-10-19T05:50:26.768692",
     "status": "completed"
    },
    "tags": []
   },
   "outputs": [],
   "source": [
    "#Standardization rescale the feature such as mean(0) and standard deviation=1\n",
    "# the result of standardization is called z-score\n",
    "#usually we use standardization when our data follow normal distribution"
   ]
  },
  {
   "cell_type": "code",
   "execution_count": 17,
   "id": "f3d9497a",
   "metadata": {
    "execution": {
     "iopub.execute_input": "2022-10-19T05:50:26.862913Z",
     "iopub.status.busy": "2022-10-19T05:50:26.862027Z",
     "iopub.status.idle": "2022-10-19T05:50:26.871094Z",
     "shell.execute_reply": "2022-10-19T05:50:26.871571Z",
     "shell.execute_reply.started": "2022-10-19T05:30:56.848761Z"
    },
    "papermill": {
     "duration": 0.040283,
     "end_time": "2022-10-19T05:50:26.871761",
     "exception": false,
     "start_time": "2022-10-19T05:50:26.831478",
     "status": "completed"
    },
    "tags": []
   },
   "outputs": [
    {
     "data": {
      "text/plain": [
       "StandardScaler()"
      ]
     },
     "execution_count": 17,
     "metadata": {},
     "output_type": "execute_result"
    }
   ],
   "source": [
    "sc=StandardScaler()\n",
    "sc.fit(x_train)"
   ]
  },
  {
   "cell_type": "code",
   "execution_count": 18,
   "id": "edb5f8d2",
   "metadata": {
    "execution": {
     "iopub.execute_input": "2022-10-19T05:50:26.933935Z",
     "iopub.status.busy": "2022-10-19T05:50:26.933127Z",
     "iopub.status.idle": "2022-10-19T05:50:26.936218Z",
     "shell.execute_reply": "2022-10-19T05:50:26.936742Z",
     "shell.execute_reply.started": "2022-10-19T05:30:56.878064Z"
    },
    "papermill": {
     "duration": 0.037186,
     "end_time": "2022-10-19T05:50:26.936934",
     "exception": false,
     "start_time": "2022-10-19T05:50:26.899748",
     "status": "completed"
    },
    "tags": []
   },
   "outputs": [
    {
     "data": {
      "text/plain": [
       "array([ 2.30617978, 29.55409121,  0.39185393])"
      ]
     },
     "execution_count": 18,
     "metadata": {},
     "output_type": "execute_result"
    }
   ],
   "source": [
    "sc.mean_"
   ]
  },
  {
   "cell_type": "code",
   "execution_count": 19,
   "id": "517dfb1c",
   "metadata": {
    "execution": {
     "iopub.execute_input": "2022-10-19T05:50:27.000391Z",
     "iopub.status.busy": "2022-10-19T05:50:26.999404Z",
     "iopub.status.idle": "2022-10-19T05:50:27.003284Z",
     "shell.execute_reply": "2022-10-19T05:50:27.002716Z",
     "shell.execute_reply.started": "2022-10-19T05:30:56.888273Z"
    },
    "papermill": {
     "duration": 0.03726,
     "end_time": "2022-10-19T05:50:27.003429",
     "exception": false,
     "start_time": "2022-10-19T05:50:26.966169",
     "status": "completed"
    },
    "tags": []
   },
   "outputs": [
    {
     "data": {
      "text/plain": [
       "array([ 0.84405789, 12.99162985,  0.79647463])"
      ]
     },
     "execution_count": 19,
     "metadata": {},
     "output_type": "execute_result"
    }
   ],
   "source": [
    "sc.scale_"
   ]
  },
  {
   "cell_type": "code",
   "execution_count": 20,
   "id": "4d3768bc",
   "metadata": {
    "execution": {
     "iopub.execute_input": "2022-10-19T05:50:27.071907Z",
     "iopub.status.busy": "2022-10-19T05:50:27.071229Z",
     "iopub.status.idle": "2022-10-19T05:50:27.086375Z",
     "shell.execute_reply": "2022-10-19T05:50:27.085728Z",
     "shell.execute_reply.started": "2022-10-19T05:30:56.903818Z"
    },
    "papermill": {
     "duration": 0.05441,
     "end_time": "2022-10-19T05:50:27.086513",
     "exception": false,
     "start_time": "2022-10-19T05:50:27.032103",
     "status": "completed"
    },
    "tags": []
   },
   "outputs": [
    {
     "data": {
      "text/html": [
       "<div>\n",
       "<style scoped>\n",
       "    .dataframe tbody tr th:only-of-type {\n",
       "        vertical-align: middle;\n",
       "    }\n",
       "\n",
       "    .dataframe tbody tr th {\n",
       "        vertical-align: top;\n",
       "    }\n",
       "\n",
       "    .dataframe thead th {\n",
       "        text-align: right;\n",
       "    }\n",
       "</style>\n",
       "<table border=\"1\" class=\"dataframe\">\n",
       "  <thead>\n",
       "    <tr style=\"text-align: right;\">\n",
       "      <th></th>\n",
       "      <th>Pclass</th>\n",
       "      <th>Age</th>\n",
       "      <th>Parch</th>\n",
       "    </tr>\n",
       "  </thead>\n",
       "  <tbody>\n",
       "    <tr>\n",
       "      <th>count</th>\n",
       "      <td>712.000000</td>\n",
       "      <td>712.000000</td>\n",
       "      <td>712.000000</td>\n",
       "    </tr>\n",
       "    <tr>\n",
       "      <th>mean</th>\n",
       "      <td>2.306180</td>\n",
       "      <td>29.554091</td>\n",
       "      <td>0.391854</td>\n",
       "    </tr>\n",
       "    <tr>\n",
       "      <th>std</th>\n",
       "      <td>0.844651</td>\n",
       "      <td>13.000763</td>\n",
       "      <td>0.797035</td>\n",
       "    </tr>\n",
       "    <tr>\n",
       "      <th>min</th>\n",
       "      <td>1.000000</td>\n",
       "      <td>0.420000</td>\n",
       "      <td>0.000000</td>\n",
       "    </tr>\n",
       "    <tr>\n",
       "      <th>25%</th>\n",
       "      <td>1.750000</td>\n",
       "      <td>22.000000</td>\n",
       "      <td>0.000000</td>\n",
       "    </tr>\n",
       "    <tr>\n",
       "      <th>50%</th>\n",
       "      <td>3.000000</td>\n",
       "      <td>29.699118</td>\n",
       "      <td>0.000000</td>\n",
       "    </tr>\n",
       "    <tr>\n",
       "      <th>75%</th>\n",
       "      <td>3.000000</td>\n",
       "      <td>35.000000</td>\n",
       "      <td>0.000000</td>\n",
       "    </tr>\n",
       "    <tr>\n",
       "      <th>max</th>\n",
       "      <td>3.000000</td>\n",
       "      <td>71.000000</td>\n",
       "      <td>5.000000</td>\n",
       "    </tr>\n",
       "  </tbody>\n",
       "</table>\n",
       "</div>"
      ],
      "text/plain": [
       "           Pclass         Age       Parch\n",
       "count  712.000000  712.000000  712.000000\n",
       "mean     2.306180   29.554091    0.391854\n",
       "std      0.844651   13.000763    0.797035\n",
       "min      1.000000    0.420000    0.000000\n",
       "25%      1.750000   22.000000    0.000000\n",
       "50%      3.000000   29.699118    0.000000\n",
       "75%      3.000000   35.000000    0.000000\n",
       "max      3.000000   71.000000    5.000000"
      ]
     },
     "execution_count": 20,
     "metadata": {},
     "output_type": "execute_result"
    }
   ],
   "source": [
    "x_train.describe()"
   ]
  },
  {
   "cell_type": "code",
   "execution_count": 21,
   "id": "508a4f8c",
   "metadata": {
    "execution": {
     "iopub.execute_input": "2022-10-19T05:50:27.151589Z",
     "iopub.status.busy": "2022-10-19T05:50:27.147774Z",
     "iopub.status.idle": "2022-10-19T05:50:27.155747Z",
     "shell.execute_reply": "2022-10-19T05:50:27.156236Z",
     "shell.execute_reply.started": "2022-10-19T05:30:56.94031Z"
    },
    "papermill": {
     "duration": 0.040929,
     "end_time": "2022-10-19T05:50:27.156415",
     "exception": false,
     "start_time": "2022-10-19T05:50:27.115486",
     "status": "completed"
    },
    "tags": []
   },
   "outputs": [],
   "source": [
    "x_train_sc=sc.transform(x_train)\n",
    "x_test_sc=sc.transform(x_test)"
   ]
  },
  {
   "cell_type": "code",
   "execution_count": 22,
   "id": "82041d9b",
   "metadata": {
    "execution": {
     "iopub.execute_input": "2022-10-19T05:50:27.219666Z",
     "iopub.status.busy": "2022-10-19T05:50:27.218948Z",
     "iopub.status.idle": "2022-10-19T05:50:27.221927Z",
     "shell.execute_reply": "2022-10-19T05:50:27.221365Z",
     "shell.execute_reply.started": "2022-10-19T05:30:56.950058Z"
    },
    "papermill": {
     "duration": 0.036567,
     "end_time": "2022-10-19T05:50:27.222087",
     "exception": false,
     "start_time": "2022-10-19T05:50:27.18552",
     "status": "completed"
    },
    "tags": []
   },
   "outputs": [
    {
     "data": {
      "text/plain": [
       "array([[ 0.8220055 , -0.42751304, -0.49198545],\n",
       "       [ 0.8220055 ,  1.997125  , -0.49198545],\n",
       "       [ 0.8220055 , -1.42815732, -0.49198545],\n",
       "       ...,\n",
       "       [ 0.8220055 ,  1.41983023,  3.27461284],\n",
       "       [ 0.8220055 ,  0.01116307,  0.76354731],\n",
       "       [ 0.8220055 , -0.08113618, -0.49198545]])"
      ]
     },
     "execution_count": 22,
     "metadata": {},
     "output_type": "execute_result"
    }
   ],
   "source": [
    "x_train_sc"
   ]
  },
  {
   "cell_type": "code",
   "execution_count": 23,
   "id": "ff3c4a3a",
   "metadata": {
    "execution": {
     "iopub.execute_input": "2022-10-19T05:50:27.290485Z",
     "iopub.status.busy": "2022-10-19T05:50:27.283786Z",
     "iopub.status.idle": "2022-10-19T05:50:27.293544Z",
     "shell.execute_reply": "2022-10-19T05:50:27.294155Z",
     "shell.execute_reply.started": "2022-10-19T05:30:56.963026Z"
    },
    "papermill": {
     "duration": 0.043445,
     "end_time": "2022-10-19T05:50:27.294329",
     "exception": false,
     "start_time": "2022-10-19T05:50:27.250884",
     "status": "completed"
    },
    "tags": []
   },
   "outputs": [
    {
     "data": {
      "text/plain": [
       "array([[-1.54750023,  0.80404914, -0.49198545],\n",
       "       [ 0.8220055 ,  0.18826805, -0.49198545],\n",
       "       [ 0.8220055 ,  0.03432278, -0.49198545],\n",
       "       [-1.54750023,  0.01116307, -0.49198545],\n",
       "       [-0.36274737,  0.34221332,  0.76354731],\n",
       "       [ 0.8220055 ,  0.18826805, -0.49198545],\n",
       "       [-1.54750023,  1.34285759, -0.49198545],\n",
       "       [ 0.8220055 , -1.04329413, -0.49198545],\n",
       "       [-0.36274737,  2.80533768, -0.49198545],\n",
       "       [-1.54750023, -1.12026677,  0.76354731],\n",
       "       [-0.36274737,  0.11129541, -0.49198545],\n",
       "       [-0.36274737, -0.1196225 , -0.49198545],\n",
       "       [-1.54750023,  1.18891232, -0.49198545],\n",
       "       [ 0.8220055 , -0.50448568, -0.49198545],\n",
       "       [ 0.8220055 ,  0.88102177,  5.78567837],\n",
       "       [-0.36274737, -0.35054041, -0.49198545],\n",
       "       [-0.36274737,  0.49615859,  2.01908008],\n",
       "       [ 0.8220055 ,  0.01116307, -0.49198545],\n",
       "       [ 0.8220055 ,  0.01116307, -0.49198545],\n",
       "       [-0.36274737, -0.81237622, -0.49198545],\n",
       "       [ 0.8220055 ,  0.01116307, -0.49198545],\n",
       "       [-0.36274737, -0.88934886, -0.49198545],\n",
       "       [ 0.8220055 , -0.65843095, -0.49198545],\n",
       "       [-1.54750023,  0.11129541, -0.49198545],\n",
       "       [ 0.8220055 , -0.9663215 , -0.49198545],\n",
       "       [-1.54750023, -0.42751304, -0.49198545],\n",
       "       [ 0.8220055 ,  0.88102177, -0.49198545],\n",
       "       [-1.54750023,  0.01116307, -0.49198545],\n",
       "       [ 0.8220055 ,  0.41918596,  0.76354731],\n",
       "       [-1.54750023, -1.04329413,  0.76354731],\n",
       "       [ 0.8220055 ,  0.01116307, -0.49198545],\n",
       "       [-1.54750023,  2.18955659,  2.01908008],\n",
       "       [-1.54750023,  1.34285759, -0.49198545],\n",
       "       [ 0.8220055 ,  0.11129541, -0.49198545],\n",
       "       [-0.36274737,  0.34221332, -0.49198545],\n",
       "       [-0.36274737,  0.01116307, -0.49198545],\n",
       "       [-0.36274737,  0.18826805, -0.49198545],\n",
       "       [ 0.8220055 ,  0.03432278, -0.49198545],\n",
       "       [-0.36274737, -0.58145832,  0.76354731],\n",
       "       [ 0.8220055 ,  3.42111877, -0.49198545],\n",
       "       [-0.36274737, -0.1196225 , -0.49198545],\n",
       "       [ 0.8220055 , -0.65843095, -0.49198545],\n",
       "       [ 0.8220055 ,  0.84253546, -0.49198545],\n",
       "       [-0.36274737, -1.88999313,  2.01908008],\n",
       "       [ 0.8220055 , -1.96696577,  2.01908008],\n",
       "       [-0.36274737,  0.49615859, -0.49198545],\n",
       "       [-0.36274737, -0.04264986, -0.49198545],\n",
       "       [ 0.8220055 , -1.04329413, -0.49198545],\n",
       "       [-1.54750023, -0.1196225 , -0.49198545],\n",
       "       [ 0.8220055 , -0.35054041, -0.49198545],\n",
       "       [ 0.8220055 ,  0.01116307, -0.49198545],\n",
       "       [-1.54750023,  0.49615859, -0.49198545],\n",
       "       [ 0.8220055 ,  1.65074814, -0.49198545],\n",
       "       [ 0.8220055 ,  0.01116307, -0.49198545],\n",
       "       [-0.36274737, -0.42751304, -0.49198545],\n",
       "       [-1.54750023,  1.5737755 , -0.49198545],\n",
       "       [-1.54750023, -0.27356777, -0.49198545],\n",
       "       [ 0.8220055 ,  0.95799441, -0.49198545],\n",
       "       [ 0.8220055 , -1.19723941, -0.49198545],\n",
       "       [ 0.8220055 , -0.65843095, -0.49198545],\n",
       "       [ 0.8220055 ,  1.18891232, -0.49198545],\n",
       "       [ 0.8220055 ,  1.18891232, -0.49198545],\n",
       "       [-1.54750023,  0.95799441, -0.49198545],\n",
       "       [ 0.8220055 , -0.04264986, -0.49198545],\n",
       "       [ 0.8220055 , -0.1196225 , -0.49198545],\n",
       "       [ 0.8220055 , -1.04329413, -0.49198545],\n",
       "       [-0.36274737, -0.50448568, -0.49198545],\n",
       "       [ 0.8220055 , -1.19723941,  0.76354731],\n",
       "       [-0.36274737,  0.95799441, -0.49198545],\n",
       "       [-0.36274737, -0.19659513, -0.49198545],\n",
       "       [-1.54750023,  0.18826805, -0.49198545],\n",
       "       [ 0.8220055 , -0.88934886, -0.49198545],\n",
       "       [-0.36274737, -2.04393841,  0.76354731],\n",
       "       [ 0.8220055 ,  0.01116307, -0.49198545],\n",
       "       [-1.54750023,  2.03561132, -0.49198545],\n",
       "       [-0.36274737, -2.12091104,  0.76354731],\n",
       "       [-0.36274737, -0.1196225 , -0.49198545],\n",
       "       [-1.54750023,  0.65010387, -0.49198545],\n",
       "       [ 0.8220055 ,  0.01116307, -0.49198545],\n",
       "       [ 0.8220055 ,  0.01116307, -0.49198545],\n",
       "       [-0.36274737, -0.88934886, -0.49198545],\n",
       "       [ 0.8220055 , -0.1196225 , -0.49198545],\n",
       "       [-0.36274737,  0.03432278, -0.49198545],\n",
       "       [-1.54750023,  0.03432278, -0.49198545],\n",
       "       [-0.36274737,  1.26588496, -0.49198545],\n",
       "       [ 0.8220055 , -1.58210259,  0.76354731],\n",
       "       [-1.54750023,  0.80404914, -0.49198545],\n",
       "       [ 0.8220055 ,  0.01116307, -0.49198545],\n",
       "       [ 0.8220055 , -2.12091104,  2.01908008],\n",
       "       [ 0.8220055 ,  0.01116307, -0.49198545],\n",
       "       [ 0.8220055 ,  1.03496705, -0.49198545],\n",
       "       [-0.36274737,  1.88166605, -0.49198545],\n",
       "       [ 0.8220055 ,  0.01116307, -0.49198545],\n",
       "       [-0.36274737, -0.35054041,  0.76354731],\n",
       "       [-1.54750023,  0.11129541, -0.49198545],\n",
       "       [ 0.8220055 ,  0.01116307, -0.49198545],\n",
       "       [-0.36274737, -0.04264986, -0.49198545],\n",
       "       [ 0.8220055 , -1.04329413,  0.76354731],\n",
       "       [-1.54750023, -0.04264986, -0.49198545],\n",
       "       [ 0.8220055 ,  0.95799441,  0.76354731],\n",
       "       [-0.36274737,  2.49744714, -0.49198545],\n",
       "       [ 0.8220055 ,  0.01116307,  0.76354731],\n",
       "       [ 0.8220055 ,  0.26524068, -0.49198545],\n",
       "       [-0.36274737, -0.19659513, -0.49198545],\n",
       "       [ 0.8220055 ,  0.01116307, -0.49198545],\n",
       "       [ 0.8220055 ,  1.03496705,  7.04121114],\n",
       "       [ 0.8220055 ,  0.11129541, -0.49198545],\n",
       "       [ 0.8220055 , -0.35054041, -0.49198545],\n",
       "       [ 0.8220055 ,  0.49615859,  0.76354731],\n",
       "       [ 0.8220055 ,  0.18826805, -0.49198545],\n",
       "       [ 0.8220055 ,  0.01116307, -0.49198545],\n",
       "       [-0.36274737, -0.35054041,  2.01908008],\n",
       "       [-1.54750023,  3.88295459, -0.49198545],\n",
       "       [ 0.8220055 ,  0.41918596, -0.49198545],\n",
       "       [-0.36274737, -0.81237622, -0.49198545],\n",
       "       [ 0.8220055 ,  0.18826805, -0.49198545],\n",
       "       [-0.36274737, -0.9663215 , -0.49198545],\n",
       "       [-1.54750023,  2.65139241,  4.53014561],\n",
       "       [ 0.8220055 , -0.81237622, -0.49198545],\n",
       "       [ 0.8220055 , -1.15875309, -0.49198545],\n",
       "       [ 0.8220055 ,  0.95799441, -0.49198545],\n",
       "       [-1.54750023,  2.49744714, -0.49198545],\n",
       "       [ 0.8220055 ,  0.01116307, -0.49198545],\n",
       "       [ 0.8220055 , -0.81237622, -0.49198545],\n",
       "       [-0.36274737, -0.27356777,  0.76354731],\n",
       "       [ 0.8220055 , -1.04329413, -0.49198545],\n",
       "       [ 0.8220055 , -0.1196225 , -0.49198545],\n",
       "       [-1.54750023,  1.11193968,  0.76354731],\n",
       "       [ 0.8220055 ,  0.01116307, -0.49198545],\n",
       "       [ 0.8220055 ,  0.01116307, -0.49198545],\n",
       "       [-0.36274737,  0.03432278, -0.49198545],\n",
       "       [ 0.8220055 , -0.27356777, -0.49198545],\n",
       "       [ 0.8220055 ,  0.49615859, -0.49198545],\n",
       "       [-1.54750023,  2.34350187, -0.49198545],\n",
       "       [ 0.8220055 , -0.88934886, -0.49198545],\n",
       "       [ 0.8220055 ,  0.01116307, -0.49198545],\n",
       "       [-0.36274737,  0.01116307, -0.49198545],\n",
       "       [ 0.8220055 , -1.04329413,  0.76354731],\n",
       "       [-0.36274737, -2.21096903,  2.01908008],\n",
       "       [ 0.8220055 ,  0.01116307, -0.49198545],\n",
       "       [-1.54750023, -0.58145832, -0.49198545],\n",
       "       [-0.36274737, -0.04264986, -0.49198545],\n",
       "       [-1.54750023,  1.22739864, -0.49198545],\n",
       "       [-0.36274737,  0.34221332, -0.49198545],\n",
       "       [ 0.8220055 , -0.9663215 ,  0.76354731],\n",
       "       [ 0.8220055 ,  0.26524068,  0.76354731],\n",
       "       [ 0.8220055 , -0.19659513, -0.49198545],\n",
       "       [-0.36274737,  0.41918596, -0.49198545],\n",
       "       [ 0.8220055 ,  0.01116307, -0.49198545],\n",
       "       [ 0.8220055 ,  0.01116307, -0.49198545],\n",
       "       [ 0.8220055 ,  0.01116307, -0.49198545],\n",
       "       [-1.54750023,  1.88166605,  0.76354731],\n",
       "       [ 0.8220055 , -1.58210259,  2.01908008],\n",
       "       [-1.54750023, -0.65843095,  2.01908008],\n",
       "       [ 0.8220055 , -0.1196225 ,  0.76354731],\n",
       "       [ 0.8220055 ,  0.01116307, -0.49198545],\n",
       "       [ 0.8220055 , -1.04329413, -0.49198545],\n",
       "       [-0.36274737, -0.65843095, -0.49198545],\n",
       "       [ 0.8220055 ,  0.01116307,  0.76354731],\n",
       "       [ 0.8220055 , -1.58210259,  2.01908008],\n",
       "       [ 0.8220055 ,  0.57313123, -0.49198545],\n",
       "       [-1.54750023, -2.12091104,  2.01908008],\n",
       "       [ 0.8220055 , -0.81237622, -0.49198545],\n",
       "       [-0.36274737,  1.11193968, -0.49198545],\n",
       "       [-1.54750023, -0.81237622, -0.49198545],\n",
       "       [ 0.8220055 , -0.1196225 , -0.49198545],\n",
       "       [ 0.8220055 , -0.04264986, -0.49198545],\n",
       "       [-0.36274737,  0.34221332, -0.49198545],\n",
       "       [-0.36274737,  0.49615859, -0.49198545],\n",
       "       [ 0.8220055 , -0.65843095, -0.49198545],\n",
       "       [ 0.8220055 ,  0.01116307, -0.49198545],\n",
       "       [-1.54750023,  0.01116307, -0.49198545],\n",
       "       [-1.54750023,  1.95863868, -0.49198545],\n",
       "       [ 0.8220055 ,  0.11129541, -0.49198545],\n",
       "       [ 0.8220055 ,  0.01116307,  2.01908008],\n",
       "       [ 0.8220055 , -0.27356777, -0.49198545],\n",
       "       [-0.36274737, -0.42751304, -0.49198545],\n",
       "       [-1.54750023,  0.11129541, -0.49198545],\n",
       "       [-1.54750023,  0.57313123, -0.49198545]])"
      ]
     },
     "execution_count": 23,
     "metadata": {},
     "output_type": "execute_result"
    }
   ],
   "source": [
    "x_test_sc"
   ]
  },
  {
   "cell_type": "code",
   "execution_count": 24,
   "id": "fb9faff2",
   "metadata": {
    "execution": {
     "iopub.execute_input": "2022-10-19T05:50:27.358194Z",
     "iopub.status.busy": "2022-10-19T05:50:27.357591Z",
     "iopub.status.idle": "2022-10-19T05:50:27.362079Z",
     "shell.execute_reply": "2022-10-19T05:50:27.362566Z",
     "shell.execute_reply.started": "2022-10-19T05:30:56.983728Z"
    },
    "papermill": {
     "duration": 0.037394,
     "end_time": "2022-10-19T05:50:27.362742",
     "exception": false,
     "start_time": "2022-10-19T05:50:27.325348",
     "status": "completed"
    },
    "tags": []
   },
   "outputs": [],
   "source": [
    "x_train_sc=pd.DataFrame(x_train_sc,columns=['Pclass','Age','Parch'])\n",
    "x_test_sc=pd.DataFrame(x_test_sc,columns=['Pclass','Age','Parch'])"
   ]
  },
  {
   "cell_type": "code",
   "execution_count": 25,
   "id": "70ac14ba",
   "metadata": {
    "execution": {
     "iopub.execute_input": "2022-10-19T05:50:27.425528Z",
     "iopub.status.busy": "2022-10-19T05:50:27.424847Z",
     "iopub.status.idle": "2022-10-19T05:50:27.435553Z",
     "shell.execute_reply": "2022-10-19T05:50:27.436185Z",
     "shell.execute_reply.started": "2022-10-19T05:30:56.997781Z"
    },
    "papermill": {
     "duration": 0.043769,
     "end_time": "2022-10-19T05:50:27.436371",
     "exception": false,
     "start_time": "2022-10-19T05:50:27.392602",
     "status": "completed"
    },
    "tags": []
   },
   "outputs": [
    {
     "data": {
      "text/html": [
       "<div>\n",
       "<style scoped>\n",
       "    .dataframe tbody tr th:only-of-type {\n",
       "        vertical-align: middle;\n",
       "    }\n",
       "\n",
       "    .dataframe tbody tr th {\n",
       "        vertical-align: top;\n",
       "    }\n",
       "\n",
       "    .dataframe thead th {\n",
       "        text-align: right;\n",
       "    }\n",
       "</style>\n",
       "<table border=\"1\" class=\"dataframe\">\n",
       "  <thead>\n",
       "    <tr style=\"text-align: right;\">\n",
       "      <th></th>\n",
       "      <th>Pclass</th>\n",
       "      <th>Age</th>\n",
       "      <th>Parch</th>\n",
       "    </tr>\n",
       "  </thead>\n",
       "  <tbody>\n",
       "    <tr>\n",
       "      <th>0</th>\n",
       "      <td>0.822005</td>\n",
       "      <td>-0.427513</td>\n",
       "      <td>-0.491985</td>\n",
       "    </tr>\n",
       "    <tr>\n",
       "      <th>1</th>\n",
       "      <td>0.822005</td>\n",
       "      <td>1.997125</td>\n",
       "      <td>-0.491985</td>\n",
       "    </tr>\n",
       "    <tr>\n",
       "      <th>2</th>\n",
       "      <td>0.822005</td>\n",
       "      <td>-1.428157</td>\n",
       "      <td>-0.491985</td>\n",
       "    </tr>\n",
       "    <tr>\n",
       "      <th>3</th>\n",
       "      <td>0.822005</td>\n",
       "      <td>-0.889349</td>\n",
       "      <td>-0.491985</td>\n",
       "    </tr>\n",
       "    <tr>\n",
       "      <th>4</th>\n",
       "      <td>0.822005</td>\n",
       "      <td>0.011163</td>\n",
       "      <td>2.019080</td>\n",
       "    </tr>\n",
       "    <tr>\n",
       "      <th>...</th>\n",
       "      <td>...</td>\n",
       "      <td>...</td>\n",
       "      <td>...</td>\n",
       "    </tr>\n",
       "    <tr>\n",
       "      <th>707</th>\n",
       "      <td>0.822005</td>\n",
       "      <td>0.727077</td>\n",
       "      <td>-0.491985</td>\n",
       "    </tr>\n",
       "    <tr>\n",
       "      <th>708</th>\n",
       "      <td>0.822005</td>\n",
       "      <td>0.011163</td>\n",
       "      <td>0.763547</td>\n",
       "    </tr>\n",
       "    <tr>\n",
       "      <th>709</th>\n",
       "      <td>0.822005</td>\n",
       "      <td>1.419830</td>\n",
       "      <td>3.274613</td>\n",
       "    </tr>\n",
       "    <tr>\n",
       "      <th>710</th>\n",
       "      <td>0.822005</td>\n",
       "      <td>0.011163</td>\n",
       "      <td>0.763547</td>\n",
       "    </tr>\n",
       "    <tr>\n",
       "      <th>711</th>\n",
       "      <td>0.822005</td>\n",
       "      <td>-0.081136</td>\n",
       "      <td>-0.491985</td>\n",
       "    </tr>\n",
       "  </tbody>\n",
       "</table>\n",
       "<p>712 rows × 3 columns</p>\n",
       "</div>"
      ],
      "text/plain": [
       "       Pclass       Age     Parch\n",
       "0    0.822005 -0.427513 -0.491985\n",
       "1    0.822005  1.997125 -0.491985\n",
       "2    0.822005 -1.428157 -0.491985\n",
       "3    0.822005 -0.889349 -0.491985\n",
       "4    0.822005  0.011163  2.019080\n",
       "..        ...       ...       ...\n",
       "707  0.822005  0.727077 -0.491985\n",
       "708  0.822005  0.011163  0.763547\n",
       "709  0.822005  1.419830  3.274613\n",
       "710  0.822005  0.011163  0.763547\n",
       "711  0.822005 -0.081136 -0.491985\n",
       "\n",
       "[712 rows x 3 columns]"
      ]
     },
     "execution_count": 25,
     "metadata": {},
     "output_type": "execute_result"
    }
   ],
   "source": [
    "x_train_sc"
   ]
  },
  {
   "cell_type": "raw",
   "id": "3f7498e1",
   "metadata": {
    "execution": {
     "iopub.execute_input": "2022-01-16T07:05:16.489789Z",
     "iopub.status.busy": "2022-01-16T07:05:16.48956Z",
     "iopub.status.idle": "2022-01-16T07:05:16.51356Z",
     "shell.execute_reply": "2022-01-16T07:05:16.512868Z",
     "shell.execute_reply.started": "2022-01-16T07:05:16.489757Z"
    },
    "papermill": {
     "duration": 0.030424,
     "end_time": "2022-10-19T05:50:27.497374",
     "exception": false,
     "start_time": "2022-10-19T05:50:27.46695",
     "status": "completed"
    },
    "tags": []
   },
   "source": [
    "x_train_sc.describe().round(2)"
   ]
  },
  {
   "cell_type": "code",
   "execution_count": 26,
   "id": "10967e9d",
   "metadata": {
    "execution": {
     "iopub.execute_input": "2022-10-19T05:50:27.563507Z",
     "iopub.status.busy": "2022-10-19T05:50:27.562783Z",
     "iopub.status.idle": "2022-10-19T05:50:27.565774Z",
     "shell.execute_reply": "2022-10-19T05:50:27.566264Z",
     "shell.execute_reply.started": "2022-10-19T05:30:57.026652Z"
    },
    "papermill": {
     "duration": 0.037233,
     "end_time": "2022-10-19T05:50:27.566428",
     "exception": false,
     "start_time": "2022-10-19T05:50:27.529195",
     "status": "completed"
    },
    "tags": []
   },
   "outputs": [],
   "source": [
    "#normaliztion rescale the feature in fixed range between 0 to 1\n",
    "#it is also called as MinMaxScaler\n",
    "#if data doesn't follow the  to normal distribution\n",
    "\n",
    "# there is no thumb rule to use standardiztion or normalization for special ML algorithm"
   ]
  },
  {
   "cell_type": "code",
   "execution_count": 27,
   "id": "66061ebf",
   "metadata": {
    "execution": {
     "iopub.execute_input": "2022-10-19T05:50:27.630943Z",
     "iopub.status.busy": "2022-10-19T05:50:27.630298Z",
     "iopub.status.idle": "2022-10-19T05:50:27.636298Z",
     "shell.execute_reply": "2022-10-19T05:50:27.63675Z",
     "shell.execute_reply.started": "2022-10-19T05:30:57.041089Z"
    },
    "papermill": {
     "duration": 0.039777,
     "end_time": "2022-10-19T05:50:27.636928",
     "exception": false,
     "start_time": "2022-10-19T05:50:27.597151",
     "status": "completed"
    },
    "tags": []
   },
   "outputs": [
    {
     "data": {
      "text/plain": [
       "MinMaxScaler()"
      ]
     },
     "execution_count": 27,
     "metadata": {},
     "output_type": "execute_result"
    }
   ],
   "source": [
    "mms=MinMaxScaler()\n",
    "mms.fit(x_train)"
   ]
  },
  {
   "cell_type": "code",
   "execution_count": 28,
   "id": "0bcfdf82",
   "metadata": {
    "execution": {
     "iopub.execute_input": "2022-10-19T05:50:27.702135Z",
     "iopub.status.busy": "2022-10-19T05:50:27.701451Z",
     "iopub.status.idle": "2022-10-19T05:50:27.70775Z",
     "shell.execute_reply": "2022-10-19T05:50:27.70821Z",
     "shell.execute_reply.started": "2022-10-19T05:30:57.058706Z"
    },
    "papermill": {
     "duration": 0.040553,
     "end_time": "2022-10-19T05:50:27.708382",
     "exception": false,
     "start_time": "2022-10-19T05:50:27.667829",
     "status": "completed"
    },
    "tags": []
   },
   "outputs": [],
   "source": [
    "x_train_mms=mms.transform(x_train)\n",
    "x_test_mms=mms.transform(x_test)"
   ]
  },
  {
   "cell_type": "code",
   "execution_count": 29,
   "id": "11e914e4",
   "metadata": {
    "execution": {
     "iopub.execute_input": "2022-10-19T05:50:27.772792Z",
     "iopub.status.busy": "2022-10-19T05:50:27.772152Z",
     "iopub.status.idle": "2022-10-19T05:50:27.776701Z",
     "shell.execute_reply": "2022-10-19T05:50:27.777191Z",
     "shell.execute_reply.started": "2022-10-19T05:30:57.074087Z"
    },
    "papermill": {
     "duration": 0.038293,
     "end_time": "2022-10-19T05:50:27.777356",
     "exception": false,
     "start_time": "2022-10-19T05:50:27.739063",
     "status": "completed"
    },
    "tags": []
   },
   "outputs": [
    {
     "data": {
      "text/plain": [
       "array([[1.        , 0.33408898, 0.        ],\n",
       "       [1.        , 0.78039105, 0.        ],\n",
       "       [1.        , 0.14990082, 0.        ],\n",
       "       ...,\n",
       "       [1.        , 0.67412865, 0.6       ],\n",
       "       [1.        , 0.4148359 , 0.2       ],\n",
       "       [1.        , 0.39784642, 0.        ]])"
      ]
     },
     "execution_count": 29,
     "metadata": {},
     "output_type": "execute_result"
    }
   ],
   "source": [
    "x_train_mms"
   ]
  },
  {
   "cell_type": "code",
   "execution_count": 30,
   "id": "ab7692b5",
   "metadata": {
    "execution": {
     "iopub.execute_input": "2022-10-19T05:50:27.843628Z",
     "iopub.status.busy": "2022-10-19T05:50:27.842573Z",
     "iopub.status.idle": "2022-10-19T05:50:27.847476Z",
     "shell.execute_reply": "2022-10-19T05:50:27.847963Z",
     "shell.execute_reply.started": "2022-10-19T05:30:57.091007Z"
    },
    "papermill": {
     "duration": 0.039517,
     "end_time": "2022-10-19T05:50:27.848152",
     "exception": false,
     "start_time": "2022-10-19T05:50:27.808635",
     "status": "completed"
    },
    "tags": []
   },
   "outputs": [],
   "source": [
    "x_train_mms=pd.DataFrame(x_train_mms,columns=['Pclass','Age','Parch'])\n",
    "x_train_mms=pd.DataFrame(x_test_mms,columns=['Pclass','Age','Parch'])"
   ]
  },
  {
   "cell_type": "code",
   "execution_count": 31,
   "id": "d9974051",
   "metadata": {
    "execution": {
     "iopub.execute_input": "2022-10-19T05:50:27.913636Z",
     "iopub.status.busy": "2022-10-19T05:50:27.912652Z",
     "iopub.status.idle": "2022-10-19T05:50:27.932121Z",
     "shell.execute_reply": "2022-10-19T05:50:27.932641Z",
     "shell.execute_reply.started": "2022-10-19T05:30:57.103036Z"
    },
    "papermill": {
     "duration": 0.053993,
     "end_time": "2022-10-19T05:50:27.932829",
     "exception": false,
     "start_time": "2022-10-19T05:50:27.878836",
     "status": "completed"
    },
    "tags": []
   },
   "outputs": [
    {
     "data": {
      "text/html": [
       "<div>\n",
       "<style scoped>\n",
       "    .dataframe tbody tr th:only-of-type {\n",
       "        vertical-align: middle;\n",
       "    }\n",
       "\n",
       "    .dataframe tbody tr th {\n",
       "        vertical-align: top;\n",
       "    }\n",
       "\n",
       "    .dataframe thead th {\n",
       "        text-align: right;\n",
       "    }\n",
       "</style>\n",
       "<table border=\"1\" class=\"dataframe\">\n",
       "  <thead>\n",
       "    <tr style=\"text-align: right;\">\n",
       "      <th></th>\n",
       "      <th>Pclass</th>\n",
       "      <th>Age</th>\n",
       "      <th>Parch</th>\n",
       "    </tr>\n",
       "  </thead>\n",
       "  <tbody>\n",
       "    <tr>\n",
       "      <th>count</th>\n",
       "      <td>179.00</td>\n",
       "      <td>179.00</td>\n",
       "      <td>179.00</td>\n",
       "    </tr>\n",
       "    <tr>\n",
       "      <th>mean</th>\n",
       "      <td>0.66</td>\n",
       "      <td>0.42</td>\n",
       "      <td>0.07</td>\n",
       "    </tr>\n",
       "    <tr>\n",
       "      <th>std</th>\n",
       "      <td>0.40</td>\n",
       "      <td>0.18</td>\n",
       "      <td>0.17</td>\n",
       "    </tr>\n",
       "    <tr>\n",
       "      <th>min</th>\n",
       "      <td>0.00</td>\n",
       "      <td>0.01</td>\n",
       "      <td>0.00</td>\n",
       "    </tr>\n",
       "    <tr>\n",
       "      <th>25%</th>\n",
       "      <td>0.50</td>\n",
       "      <td>0.33</td>\n",
       "      <td>0.00</td>\n",
       "    </tr>\n",
       "    <tr>\n",
       "      <th>50%</th>\n",
       "      <td>1.00</td>\n",
       "      <td>0.41</td>\n",
       "      <td>0.00</td>\n",
       "    </tr>\n",
       "    <tr>\n",
       "      <th>75%</th>\n",
       "      <td>1.00</td>\n",
       "      <td>0.49</td>\n",
       "      <td>0.00</td>\n",
       "    </tr>\n",
       "    <tr>\n",
       "      <th>max</th>\n",
       "      <td>1.00</td>\n",
       "      <td>1.13</td>\n",
       "      <td>1.20</td>\n",
       "    </tr>\n",
       "  </tbody>\n",
       "</table>\n",
       "</div>"
      ],
      "text/plain": [
       "       Pclass     Age   Parch\n",
       "count  179.00  179.00  179.00\n",
       "mean     0.66    0.42    0.07\n",
       "std      0.40    0.18    0.17\n",
       "min      0.00    0.01    0.00\n",
       "25%      0.50    0.33    0.00\n",
       "50%      1.00    0.41    0.00\n",
       "75%      1.00    0.49    0.00\n",
       "max      1.00    1.13    1.20"
      ]
     },
     "execution_count": 31,
     "metadata": {},
     "output_type": "execute_result"
    }
   ],
   "source": [
    "x_train_mms.describe().round(2)"
   ]
  },
  {
   "cell_type": "code",
   "execution_count": 32,
   "id": "17a365eb",
   "metadata": {
    "execution": {
     "iopub.execute_input": "2022-10-19T05:50:28.004531Z",
     "iopub.status.busy": "2022-10-19T05:50:27.998637Z",
     "iopub.status.idle": "2022-10-19T05:50:30.116562Z",
     "shell.execute_reply": "2022-10-19T05:50:30.115949Z",
     "shell.execute_reply.started": "2022-10-19T05:30:57.136552Z"
    },
    "papermill": {
     "duration": 2.152282,
     "end_time": "2022-10-19T05:50:30.116707",
     "exception": false,
     "start_time": "2022-10-19T05:50:27.964425",
     "status": "completed"
    },
    "tags": []
   },
   "outputs": [
    {
     "data": {
      "text/plain": [
       "<seaborn.axisgrid.PairGrid at 0x7f0be69e1b50>"
      ]
     },
     "execution_count": 32,
     "metadata": {},
     "output_type": "execute_result"
    },
    {
     "data": {
      "image/png": "[encoded data removed]",
      "text/plain": [
       "<Figure size 540x540 with 12 Axes>"
      ]
     },
     "metadata": {
      "needs_background": "light"
     },
     "output_type": "display_data"
    }
   ],
   "source": [
    "sns.pairplot(x_train)"
   ]
  },
  {
   "cell_type": "code",
   "execution_count": 33,
   "id": "400243a4",
   "metadata": {
    "execution": {
     "iopub.execute_input": "2022-10-19T05:50:30.187662Z",
     "iopub.status.busy": "2022-10-19T05:50:30.187045Z",
     "iopub.status.idle": "2022-10-19T05:50:32.171018Z",
     "shell.execute_reply": "2022-10-19T05:50:32.171511Z",
     "shell.execute_reply.started": "2022-10-19T05:30:59.573989Z"
    },
    "papermill": {
     "duration": 2.020896,
     "end_time": "2022-10-19T05:50:32.171725",
     "exception": false,
     "start_time": "2022-10-19T05:50:30.150829",
     "status": "completed"
    },
    "tags": []
   },
   "outputs": [
    {
     "data": {
      "text/plain": [
       "<seaborn.axisgrid.PairGrid at 0x7f0bde431d10>"
      ]
     },
     "execution_count": 33,
     "metadata": {},
     "output_type": "execute_result"
    },
    {
     "data": {
      "image/png": "[encoded data removed]",
      "text/plain": [
       "<Figure size 540x540 with 12 Axes>"
      ]
     },
     "metadata": {
      "needs_background": "light"
     },
     "output_type": "display_data"
    }
   ],
   "source": [
    "sns.pairplot(x_train_sc)"
   ]
  },
  {
   "cell_type": "code",
   "execution_count": 34,
   "id": "d69bf2d2",
   "metadata": {
    "execution": {
     "iopub.execute_input": "2022-10-19T05:50:32.246634Z",
     "iopub.status.busy": "2022-10-19T05:50:32.245693Z",
     "iopub.status.idle": "2022-10-19T05:50:34.304049Z",
     "shell.execute_reply": "2022-10-19T05:50:34.303466Z",
     "shell.execute_reply.started": "2022-10-19T05:31:01.802571Z"
    },
    "papermill": {
     "duration": 2.09677,
     "end_time": "2022-10-19T05:50:34.304245",
     "exception": false,
     "start_time": "2022-10-19T05:50:32.207475",
     "status": "completed"
    },
    "tags": []
   },
   "outputs": [
    {
     "data": {
      "text/plain": [
       "<seaborn.axisgrid.PairGrid at 0x7f0bde047d50>"
      ]
     },
     "execution_count": 34,
     "metadata": {},
     "output_type": "execute_result"
    },
    {
     "data": {
      "image/png": "[encoded data removed]",
      "text/plain": [
       "<Figure size 540x540 with 12 Axes>"
      ]
     },
     "metadata": {
      "needs_background": "light"
     },
     "output_type": "display_data"
    }
   ],
   "source": [
    "sns.pairplot(x_train_mms)"
   ]
  }
 ],
 "metadata": {
  "kernelspec": {
   "display_name": "Python 3",
   "language": "python",
   "name": "python3"
  },
  "language_info": {
   "codemirror_mode": {
    "name": "ipython",
    "version": 3
   },
   "file_extension": ".py",
   "mimetype": "text/x-python",
   "name": "python",
   "nbconvert_exporter": "python",
   "pygments_lexer": "ipython3",
   "version": "3.7.12"
  },
  "papermill": {
   "default_parameters": {},
   "duration": 19.74373,
   "end_time": "2022-10-19T05:50:35.152835",
   "environment_variables": {},
   "exception": null,
   "input_path": "__notebook__.ipynb",
   "output_path": "__notebook__.ipynb",
   "parameters": {},
   "start_time": "2022-10-19T05:50:15.409105",
   "version": "2.3.3"
  }
 },
 "nbformat": 4,
 "nbformat_minor": 5
}
